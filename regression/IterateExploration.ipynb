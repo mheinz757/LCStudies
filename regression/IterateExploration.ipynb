{
 "cells": [
  {
   "cell_type": "markdown",
   "metadata": {},
   "source": [
    "# Let's try to get the newest CNN working for regressions too"
   ]
  },
  {
   "cell_type": "code",
   "execution_count": 3,
   "metadata": {},
   "outputs": [],
   "source": [
    "%load_ext autoreload\n",
    "%autoreload 2"
   ]
  },
  {
   "cell_type": "code",
   "execution_count": 4,
   "metadata": {},
   "outputs": [],
   "source": [
    "#import libraries and some constants\n",
    "\n",
    "import os\n",
    "import numpy as np\n",
    "import matplotlib as mpl\n",
    "import matplotlib.pyplot as plt\n",
    "from matplotlib.colors import Normalize, LogNorm\n",
    "import pandas as pd\n",
    "import uproot as ur\n",
    "import atlas_mpl_style as ampl\n",
    "ampl.use_atlas_style()\n",
    "\n",
    "path_prefix = '/g/g16/heinz6/workspace/projects/caloml-atlas/code/caloml-atlas-py/'"
   ]
  },
  {
   "cell_type": "code",
   "execution_count": 5,
   "metadata": {},
   "outputs": [
    {
     "name": "stderr",
     "output_type": "stream",
     "text": [
      "Using TensorFlow backend.\n"
     ]
    }
   ],
   "source": [
    "# import our resolution utilities\n",
    "\n",
    "import sys\n",
    "sys.path.append(path_prefix)\n",
    "from  util import resolution_util as ru\n",
    "from  util import plot_util as pu\n",
    "from  util import ml_util as mu"
   ]
  },
  {
   "cell_type": "code",
   "execution_count": 6,
   "metadata": {},
   "outputs": [],
   "source": [
    "inputpath = '/usr/WS1/hip/ML4Jets/regression_images/images_v6_v01-17-g2679fe7/'\n",
    "file_list = [inputpath+'piplus_unscaled_filtered.root', inputpath+'piplus.root']"
   ]
  },
  {
   "cell_type": "code",
   "execution_count": 26,
   "metadata": {},
   "outputs": [
    {
     "name": "stdout",
     "output_type": "stream",
     "text": [
      "2\n",
      "[{'cluster_ENG_CALIB_TOT': array([1.79040479e+03, 7.33295059e+01, 2.59032995e-01, 1.29555616e+01,\n",
      "       1.16086915e-01, 1.11815527e+03, 3.03148198e+00, 1.85991037e+00,\n",
      "       2.27923346e+00, 5.76284027e+00], dtype=float32)}, {'cluster_ENG_CALIB_TOT': array([1.79040479e+03, 7.33295059e+01, 2.59032995e-01, 1.29555616e+01,\n",
      "       1.16086915e-01, 1.11815527e+03, 3.03148198e+00, 1.85991037e+00,\n",
      "       2.27923346e+00, 5.76284027e+00], dtype=float32)}]\n"
     ]
    }
   ],
   "source": [
    "data = ur.iterate(file_list, 'ClusterTree', 'cluster_ENG_CALIB_TOT', entrysteps = [(0, 10)], namedecode = 'utf-8')\n",
    "\n",
    "data1 = list(data)\n",
    "print(len(data1))\n",
    "print(data1)"
   ]
  },
  {
   "cell_type": "code",
   "execution_count": 14,
   "metadata": {},
   "outputs": [
    {
     "data": {
      "text/plain": [
       "57525"
      ]
     },
     "execution_count": 14,
     "metadata": {},
     "output_type": "execute_result"
    }
   ],
   "source": [
    "len(data1[7]['cluster_ENG_CALIB_TOT'])"
   ]
  },
  {
   "cell_type": "code",
   "execution_count": 26,
   "metadata": {},
   "outputs": [
    {
     "name": "stdout",
     "output_type": "stream",
     "text": [
      "47377\n"
     ]
    }
   ],
   "source": [
    "print(len(data1[3]['cluster_ENG_CALIB_TOT']))"
   ]
  },
  {
   "cell_type": "code",
   "execution_count": 27,
   "metadata": {},
   "outputs": [],
   "source": [
    "#inputpath = '/usr/WS1/hip/ML4Jets/regression_images/sample_jet_events/'\n",
    "#rootfiles = [\"mltree.pool\"]\n",
    "inputpath = '/usr/WS1/hip/ML4Jets/regression_images/images_v6_v01-17-g2679fe7/'\n",
    "rootfiles = ['piplus_unscaled_filtered']\n",
    "\n",
    "branches = ['TileBar2', 'EMB3', 'cluster_ENG_CALIB_TOT', 'cluster_sumCellE',\\\n",
    "            'TileBar1', 'TileBar0', 'cluster_nCells', 'clusterPt', 'clusterIndex',\\\n",
    "            'clusterEta', 'EMB1', 'clusterPhi', 'EMB2', 'clusterE', 'truthE']\n",
    "\n",
    "trees, pdata = mu.setupPionData(inputpath, rootfiles, branches)"
   ]
  },
  {
   "cell_type": "code",
   "execution_count": 28,
   "metadata": {},
   "outputs": [],
   "source": [
    "tree = trees['piplus_unscaled_filtered']"
   ]
  },
  {
   "cell_type": "code",
   "execution_count": 30,
   "metadata": {},
   "outputs": [
    {
     "name": "stdout",
     "output_type": "stream",
     "text": [
      "[2412 1560 1386 1498 2015 1053 2465  444 1154  990]\n"
     ]
    }
   ],
   "source": [
    "import random\n",
    "\n",
    "num_points = 10\n",
    "batch_size = 256\n",
    "start_points = np.array([random.randrange(0,batch_size*num_points) for idx in range(num_points)])\n",
    "print(start_points)"
   ]
  },
  {
   "cell_type": "code",
   "execution_count": 31,
   "metadata": {},
   "outputs": [
    {
     "name": "stdout",
     "output_type": "stream",
     "text": [
      "[ 0.259033 12.955562]\n",
      "[1.7904048e+03 7.3329506e+01 2.5903299e-01 1.2955562e+01]\n",
      "[1.7904048e+03 7.3329506e+01 2.5903299e-01 1.2955562e+01]\n"
     ]
    }
   ],
   "source": [
    "data = tree.iterate(branches, entrysteps = [(0,2),(2,4)],\n",
    "                   namedecode = 'utf-8')\n",
    "data1 = list(data)\n",
    "print(data1[1]['cluster_ENG_CALIB_TOT'])\n",
    "\n",
    "data = tree.iterate(branches, entrysteps = [(0,4)],\n",
    "                   namedecode = 'utf-8')\n",
    "data1 = list(data)\n",
    "print(data1[0]['cluster_ENG_CALIB_TOT'])\n",
    "\n",
    "data = tree.iterate(branches, entrystart=0, entrystop = 4,\n",
    "                   namedecode = 'utf-8')\n",
    "data2 = list(data)\n",
    "print(data2[0]['cluster_ENG_CALIB_TOT'])"
   ]
  },
  {
   "cell_type": "code",
   "execution_count": 39,
   "metadata": {},
   "outputs": [
    {
     "name": "stdout",
     "output_type": "stream",
     "text": [
      "1 (256,) [404.05792 369.35486]\n",
      "1 (256,) [142.551        0.36688793]\n",
      "1 (256,) [  2.2390928 176.55815  ]\n",
      "1 (256,) [1.5416069  0.38817537]\n",
      "1 (256,) [121.27202 252.69635]\n",
      "1 (256,) [0.9807285 1.2521334]\n",
      "1 (256,) [381.81512   14.379922]\n",
      "1 (256,) [  0.16409473 102.14722   ]\n",
      "1 (256,) [137.79831     4.8507814]\n",
      "1 (256,) [2.1841986  0.22467041]\n"
     ]
    }
   ],
   "source": [
    "for idx in range(num_points):\n",
    "    data = tree.iterate(branches, entrysteps=[(start_points[idx], start_points[idx]+ batch_size)], namedecode='utf-8')\n",
    "    data1 = list(data)\n",
    "    \n",
    "    print(len(data1), data1[0]['cluster_ENG_CALIB_TOT'].shape, data1[0]['cluster_ENG_CALIB_TOT'][[0,1]])"
   ]
  },
  {
   "cell_type": "code",
   "execution_count": 45,
   "metadata": {},
   "outputs": [
    {
     "name": "stdout",
     "output_type": "stream",
     "text": [
      "1 (256, 128, 4) [404.05792 369.35486]\n",
      "1 (256, 128, 4) [142.551        0.36688793]\n",
      "1 (256, 128, 4) [  2.2390928 176.55815  ]\n",
      "1 (256, 128, 4) [1.5416069  0.38817537]\n",
      "1 (256, 128, 4) [121.27202 252.69635]\n",
      "1 (256, 128, 4) [0.9807285 1.2521334]\n",
      "1 (256, 128, 4) [381.81512   14.379922]\n",
      "1 (256, 128, 4) [  0.16409473 102.14722   ]\n",
      "1 (256, 128, 4) [137.79831     4.8507814]\n",
      "1 (256, 128, 4) [2.1841986  0.22467041]\n"
     ]
    }
   ],
   "source": [
    "for idx in range(num_points):\n",
    "    data = tree.iterate(branches, entrystart=start_points[idx], \n",
    "                        entrystop=start_points[idx]+batch_size, entrysteps=batch_size, namedecode='utf-8')\n",
    "    data1 = list(data)\n",
    "    \n",
    "    print(len(data1), data1[0]['EMB1'].shape, data1[0]['cluster_ENG_CALIB_TOT'][[0,1]])"
   ]
  },
  {
   "cell_type": "code",
   "execution_count": 8,
   "metadata": {},
   "outputs": [
    {
     "name": "stdout",
     "output_type": "stream",
     "text": [
      "<class 'awkward.array.chunked.ChunkedArray'> (256, 128, 4)\n",
      "<class 'awkward.array.chunked.ChunkedArray'> (256, 128, 4)\n",
      "<class 'awkward.array.chunked.ChunkedArray'> (256, 128, 4)\n",
      "<class 'awkward.array.chunked.ChunkedArray'> (256, 128, 4)\n",
      "<class 'awkward.array.chunked.ChunkedArray'> (256, 128, 4)\n",
      "<class 'awkward.array.chunked.ChunkedArray'> (256, 128, 4)\n",
      "<class 'awkward.array.chunked.ChunkedArray'> (256, 128, 4)\n",
      "<class 'awkward.array.chunked.ChunkedArray'> (256, 128, 4)\n",
      "<class 'awkward.array.chunked.ChunkedArray'> (256, 128, 4)\n",
      "<class 'awkward.array.chunked.ChunkedArray'> (256, 128, 4)\n",
      "<class 'awkward.array.chunked.ChunkedArray'> (256, 128, 4)\n",
      "<class 'awkward.array.chunked.ChunkedArray'> (256, 128, 4)\n",
      "<class 'awkward.array.chunked.ChunkedArray'> (256, 128, 4)\n",
      "<class 'awkward.array.chunked.ChunkedArray'> (256, 128, 4)\n",
      "<class 'awkward.array.chunked.ChunkedArray'> (256, 128, 4)\n",
      "<class 'awkward.array.chunked.ChunkedArray'> (256, 128, 4)\n",
      "<class 'awkward.array.chunked.ChunkedArray'> (256, 128, 4)\n",
      "<class 'awkward.array.chunked.ChunkedArray'> (256, 128, 4)\n",
      "<class 'awkward.array.chunked.ChunkedArray'> (256, 128, 4)\n",
      "<class 'awkward.array.chunked.ChunkedArray'> (256, 128, 4)\n",
      "<class 'awkward.array.chunked.ChunkedArray'> (256, 128, 4)\n",
      "<class 'awkward.array.chunked.ChunkedArray'> (256, 128, 4)\n",
      "<class 'awkward.array.chunked.ChunkedArray'> (256, 128, 4)\n",
      "<class 'awkward.array.chunked.ChunkedArray'> (256, 128, 4)\n",
      "<class 'awkward.array.chunked.ChunkedArray'> (256, 128, 4)\n",
      "<class 'awkward.array.chunked.ChunkedArray'> (256, 128, 4)\n",
      "<class 'awkward.array.chunked.ChunkedArray'> (256, 128, 4)\n",
      "<class 'awkward.array.chunked.ChunkedArray'> (256, 128, 4)\n",
      "<class 'awkward.array.chunked.ChunkedArray'> (256, 128, 4)\n",
      "<class 'awkward.array.chunked.ChunkedArray'> (256, 128, 4)\n",
      "<class 'awkward.array.chunked.ChunkedArray'> (256, 128, 4)\n",
      "<class 'awkward.array.chunked.ChunkedArray'> (256, 128, 4)\n",
      "<class 'awkward.array.chunked.ChunkedArray'> (256, 128, 4)\n",
      "<class 'awkward.array.chunked.ChunkedArray'> (256, 128, 4)\n",
      "<class 'awkward.array.chunked.ChunkedArray'> (256, 128, 4)\n",
      "<class 'awkward.array.chunked.ChunkedArray'> (256, 128, 4)\n",
      "<class 'awkward.array.chunked.ChunkedArray'> (256, 128, 4)\n",
      "<class 'awkward.array.chunked.ChunkedArray'> (256, 128, 4)\n",
      "<class 'awkward.array.chunked.ChunkedArray'> (256, 128, 4)\n",
      "<class 'awkward.array.chunked.ChunkedArray'> (256, 128, 4)\n",
      "<class 'awkward.array.chunked.ChunkedArray'> (256, 128, 4)\n",
      "<class 'awkward.array.chunked.ChunkedArray'> (256, 128, 4)\n",
      "<class 'awkward.array.chunked.ChunkedArray'> (256, 128, 4)\n",
      "<class 'awkward.array.chunked.ChunkedArray'> (256, 128, 4)\n",
      "<class 'awkward.array.chunked.ChunkedArray'> (256, 128, 4)\n",
      "<class 'awkward.array.chunked.ChunkedArray'> (256, 128, 4)\n",
      "<class 'awkward.array.chunked.ChunkedArray'> (256, 128, 4)\n",
      "<class 'awkward.array.chunked.ChunkedArray'> (256, 128, 4)\n",
      "<class 'awkward.array.chunked.ChunkedArray'> (256, 128, 4)\n",
      "<class 'awkward.array.chunked.ChunkedArray'> (256, 128, 4)\n",
      "<class 'awkward.array.chunked.ChunkedArray'> (256, 128, 4)\n",
      "<class 'awkward.array.chunked.ChunkedArray'> (256, 128, 4)\n",
      "<class 'awkward.array.chunked.ChunkedArray'> (256, 128, 4)\n",
      "<class 'awkward.array.chunked.ChunkedArray'> (256, 128, 4)\n",
      "<class 'awkward.array.chunked.ChunkedArray'> (256, 128, 4)\n",
      "<class 'awkward.array.chunked.ChunkedArray'> (256, 128, 4)\n",
      "<class 'awkward.array.chunked.ChunkedArray'> (256, 128, 4)\n",
      "<class 'awkward.array.chunked.ChunkedArray'> (256, 128, 4)\n",
      "<class 'awkward.array.chunked.ChunkedArray'> (256, 128, 4)\n",
      "<class 'awkward.array.chunked.ChunkedArray'> (256, 128, 4)\n",
      "<class 'awkward.array.chunked.ChunkedArray'> (256, 128, 4)\n",
      "<class 'awkward.array.chunked.ChunkedArray'> (256, 128, 4)\n",
      "<class 'awkward.array.chunked.ChunkedArray'> (256, 128, 4)\n",
      "<class 'awkward.array.chunked.ChunkedArray'> (256, 128, 4)\n",
      "<class 'awkward.array.chunked.ChunkedArray'> (256, 128, 4)\n",
      "<class 'awkward.array.chunked.ChunkedArray'> (256, 128, 4)\n",
      "<class 'awkward.array.chunked.ChunkedArray'> (256, 128, 4)\n",
      "<class 'awkward.array.chunked.ChunkedArray'> (256, 128, 4)\n",
      "<class 'awkward.array.chunked.ChunkedArray'> (256, 128, 4)\n",
      "<class 'awkward.array.chunked.ChunkedArray'> (256, 128, 4)\n",
      "<class 'awkward.array.chunked.ChunkedArray'> (256, 128, 4)\n",
      "<class 'awkward.array.chunked.ChunkedArray'> (256, 128, 4)\n",
      "<class 'awkward.array.chunked.ChunkedArray'> (256, 128, 4)\n",
      "<class 'awkward.array.chunked.ChunkedArray'> (256, 128, 4)\n",
      "<class 'awkward.array.chunked.ChunkedArray'> (256, 128, 4)\n",
      "<class 'awkward.array.chunked.ChunkedArray'> (256, 128, 4)\n",
      "<class 'awkward.array.chunked.ChunkedArray'> (256, 128, 4)\n",
      "<class 'awkward.array.chunked.ChunkedArray'> (256, 128, 4)\n",
      "<class 'awkward.array.chunked.ChunkedArray'> (256, 128, 4)\n",
      "<class 'awkward.array.chunked.ChunkedArray'> (256, 128, 4)\n",
      "2.86 s ± 57.6 ms per loop (mean ± std. dev. of 7 runs, 1 loop each)\n"
     ]
    }
   ],
   "source": [
    "%%timeit\n",
    "\n",
    "img_data = tree.lazyarrays(branches = branches, namedecode = 'utf-8')\n",
    "\n",
    "for idx in range(num_points):\n",
    "    temp_idxs = np.arange(idx*batch_size, (idx+1)*batch_size)\n",
    "    emb1 = img_data['EMB1'][temp_idxs]\n",
    "    print(type(emb1),emb1.shape)"
   ]
  },
  {
   "cell_type": "code",
   "execution_count": 9,
   "metadata": {},
   "outputs": [
    {
     "name": "stdout",
     "output_type": "stream",
     "text": [
      "<class 'numpy.ndarray'> (256, 128, 4)\n",
      "<class 'numpy.ndarray'> (256, 128, 4)\n",
      "<class 'numpy.ndarray'> (256, 128, 4)\n",
      "<class 'numpy.ndarray'> (256, 128, 4)\n",
      "<class 'numpy.ndarray'> (256, 128, 4)\n",
      "<class 'numpy.ndarray'> (256, 128, 4)\n",
      "<class 'numpy.ndarray'> (256, 128, 4)\n",
      "<class 'numpy.ndarray'> (256, 128, 4)\n",
      "<class 'numpy.ndarray'> (256, 128, 4)\n",
      "<class 'numpy.ndarray'> (256, 128, 4)\n",
      "<class 'numpy.ndarray'> (256, 128, 4)\n",
      "<class 'numpy.ndarray'> (256, 128, 4)\n",
      "<class 'numpy.ndarray'> (256, 128, 4)\n",
      "<class 'numpy.ndarray'> (256, 128, 4)\n",
      "<class 'numpy.ndarray'> (256, 128, 4)\n",
      "<class 'numpy.ndarray'> (256, 128, 4)\n",
      "<class 'numpy.ndarray'> (256, 128, 4)\n",
      "<class 'numpy.ndarray'> (256, 128, 4)\n",
      "<class 'numpy.ndarray'> (256, 128, 4)\n",
      "<class 'numpy.ndarray'> (256, 128, 4)\n",
      "<class 'numpy.ndarray'> (256, 128, 4)\n",
      "<class 'numpy.ndarray'> (256, 128, 4)\n",
      "<class 'numpy.ndarray'> (256, 128, 4)\n",
      "<class 'numpy.ndarray'> (256, 128, 4)\n",
      "<class 'numpy.ndarray'> (256, 128, 4)\n",
      "<class 'numpy.ndarray'> (256, 128, 4)\n",
      "<class 'numpy.ndarray'> (256, 128, 4)\n",
      "<class 'numpy.ndarray'> (256, 128, 4)\n",
      "<class 'numpy.ndarray'> (256, 128, 4)\n",
      "<class 'numpy.ndarray'> (256, 128, 4)\n",
      "<class 'numpy.ndarray'> (256, 128, 4)\n",
      "<class 'numpy.ndarray'> (256, 128, 4)\n",
      "<class 'numpy.ndarray'> (256, 128, 4)\n",
      "<class 'numpy.ndarray'> (256, 128, 4)\n",
      "<class 'numpy.ndarray'> (256, 128, 4)\n",
      "<class 'numpy.ndarray'> (256, 128, 4)\n",
      "<class 'numpy.ndarray'> (256, 128, 4)\n",
      "<class 'numpy.ndarray'> (256, 128, 4)\n",
      "<class 'numpy.ndarray'> (256, 128, 4)\n",
      "<class 'numpy.ndarray'> (256, 128, 4)\n",
      "<class 'numpy.ndarray'> (256, 128, 4)\n",
      "<class 'numpy.ndarray'> (256, 128, 4)\n",
      "<class 'numpy.ndarray'> (256, 128, 4)\n",
      "<class 'numpy.ndarray'> (256, 128, 4)\n",
      "<class 'numpy.ndarray'> (256, 128, 4)\n",
      "<class 'numpy.ndarray'> (256, 128, 4)\n",
      "<class 'numpy.ndarray'> (256, 128, 4)\n",
      "<class 'numpy.ndarray'> (256, 128, 4)\n",
      "<class 'numpy.ndarray'> (256, 128, 4)\n",
      "<class 'numpy.ndarray'> (256, 128, 4)\n",
      "<class 'numpy.ndarray'> (256, 128, 4)\n",
      "<class 'numpy.ndarray'> (256, 128, 4)\n",
      "<class 'numpy.ndarray'> (256, 128, 4)\n",
      "<class 'numpy.ndarray'> (256, 128, 4)\n",
      "<class 'numpy.ndarray'> (256, 128, 4)\n",
      "<class 'numpy.ndarray'> (256, 128, 4)\n",
      "<class 'numpy.ndarray'> (256, 128, 4)\n",
      "<class 'numpy.ndarray'> (256, 128, 4)\n",
      "<class 'numpy.ndarray'> (256, 128, 4)\n",
      "<class 'numpy.ndarray'> (256, 128, 4)\n",
      "<class 'numpy.ndarray'> (256, 128, 4)\n",
      "<class 'numpy.ndarray'> (256, 128, 4)\n",
      "<class 'numpy.ndarray'> (256, 128, 4)\n",
      "<class 'numpy.ndarray'> (256, 128, 4)\n",
      "<class 'numpy.ndarray'> (256, 128, 4)\n",
      "<class 'numpy.ndarray'> (256, 128, 4)\n",
      "<class 'numpy.ndarray'> (256, 128, 4)\n",
      "<class 'numpy.ndarray'> (256, 128, 4)\n",
      "<class 'numpy.ndarray'> (256, 128, 4)\n",
      "<class 'numpy.ndarray'> (256, 128, 4)\n",
      "<class 'numpy.ndarray'> (256, 128, 4)\n",
      "<class 'numpy.ndarray'> (256, 128, 4)\n",
      "<class 'numpy.ndarray'> (256, 128, 4)\n",
      "<class 'numpy.ndarray'> (256, 128, 4)\n",
      "<class 'numpy.ndarray'> (256, 128, 4)\n",
      "<class 'numpy.ndarray'> (256, 128, 4)\n",
      "<class 'numpy.ndarray'> (256, 128, 4)\n",
      "<class 'numpy.ndarray'> (256, 128, 4)\n",
      "<class 'numpy.ndarray'> (256, 128, 4)\n",
      "<class 'numpy.ndarray'> (256, 128, 4)\n",
      "2.81 s ± 13.7 ms per loop (mean ± std. dev. of 7 runs, 1 loop each)\n"
     ]
    }
   ],
   "source": [
    "%%timeit\n",
    "\n",
    "img_data = tree.lazyarrays(branches = branches, namedecode = 'utf-8')\n",
    "\n",
    "for idx in range(num_points):\n",
    "    temp_idxs = np.arange(idx*batch_size, (idx+1)*batch_size)\n",
    "    emb1 = np.array(list(img_data['EMB1'][temp_idxs]))\n",
    "    print(type(emb1),emb1.shape)"
   ]
  },
  {
   "cell_type": "code",
   "execution_count": 23,
   "metadata": {},
   "outputs": [],
   "source": [
    "img_data = tree.lazyarrays(branches = branches, namedecode = 'utf-8')"
   ]
  },
  {
   "cell_type": "code",
   "execution_count": 25,
   "metadata": {},
   "outputs": [
    {
     "name": "stdout",
     "output_type": "stream",
     "text": [
      "<class 'numpy.ndarray'> (256, 128, 4)\n",
      "<class 'numpy.ndarray'> (256, 128, 4)\n",
      "<class 'numpy.ndarray'> (256, 128, 4)\n",
      "<class 'numpy.ndarray'> (256, 128, 4)\n",
      "<class 'numpy.ndarray'> (256, 128, 4)\n",
      "<class 'numpy.ndarray'> (256, 128, 4)\n",
      "<class 'numpy.ndarray'> (256, 128, 4)\n",
      "<class 'numpy.ndarray'> (256, 128, 4)\n",
      "<class 'numpy.ndarray'> (256, 128, 4)\n",
      "<class 'numpy.ndarray'> (256, 128, 4)\n",
      "14.8 ms ± 0 ns per loop (mean ± std. dev. of 1 run, 1 loop each)\n"
     ]
    }
   ],
   "source": [
    "%%timeit -r1 -n1\n",
    "\n",
    "for idx in range(num_points):\n",
    "    temp_idxs = np.arange(idx*batch_size, (idx+1)*batch_size)\n",
    "    emb1 = np.array(list(img_data['EMB1'][temp_idxs]))\n",
    "    print(type(emb1),emb1.shape)"
   ]
  },
  {
   "cell_type": "code",
   "execution_count": 12,
   "metadata": {},
   "outputs": [
    {
     "name": "stdout",
     "output_type": "stream",
     "text": [
      "30.3 ms ± 269 µs per loop (mean ± std. dev. of 7 runs, 10 loops each)\n"
     ]
    }
   ],
   "source": [
    "%%timeit\n",
    "\n",
    "img_data = tree.lazyarrays(branches = branches, namedecode = 'utf-8')"
   ]
  },
  {
   "cell_type": "code",
   "execution_count": null,
   "metadata": {},
   "outputs": [],
   "source": []
  }
 ],
 "metadata": {
  "kernelspec": {
   "display_name": "heinz6 powerai (Python 3)",
   "language": "python",
   "name": "heinz6_powerai_ker"
  },
  "language_info": {
   "codemirror_mode": {
    "name": "ipython",
    "version": 3
   },
   "file_extension": ".py",
   "mimetype": "text/x-python",
   "name": "python",
   "nbconvert_exporter": "python",
   "pygments_lexer": "ipython3",
   "version": "3.7.7"
  }
 },
 "nbformat": 4,
 "nbformat_minor": 2
}
