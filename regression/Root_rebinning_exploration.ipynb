{
 "cells": [
  {
   "cell_type": "code",
   "execution_count": 1,
   "metadata": {},
   "outputs": [
    {
     "name": "stderr",
     "output_type": "stream",
     "text": [
      "Using TensorFlow backend.\n"
     ]
    }
   ],
   "source": [
    "#import libraries and some constants\n",
    "\n",
    "import os\n",
    "import numpy as np\n",
    "import matplotlib as mpl\n",
    "import matplotlib.pyplot as plt\n",
    "from matplotlib.colors import Normalize, LogNorm\n",
    "import pandas as pd\n",
    "import uproot as ur\n",
    "import atlas_mpl_style as ampl\n",
    "ampl.use_atlas_style()\n",
    "import tensorflow as tf\n",
    "\n",
    "import sys\n",
    "sys.path.append('/g/g16/heinz6/workspace/projects/caloml-atlas/code/atlasml-karande-heinz/')\n",
    "from util import root_preprocess_util as rpu\n",
    "from helpers import rebin"
   ]
  },
  {
   "cell_type": "code",
   "execution_count": 2,
   "metadata": {},
   "outputs": [],
   "source": [
    "inputpath = '/usr/WS1/hip/ML4Jets/regression_images/images_v6_v01-17-g2679fe7/'\n",
    "\n",
    "tree1 = ur.open(inputpath+'piplus_unscaled_filtered.root')['ClusterTree']\n",
    "tree2 = ur.open(inputpath+'piplus_fully_processed.root')['ClusterTree']"
   ]
  },
  {
   "cell_type": "code",
   "execution_count": 3,
   "metadata": {},
   "outputs": [
    {
     "data": {
      "text/plain": [
       "[b'runNumber',\n",
       " b'eventNumber',\n",
       " b'truthE',\n",
       " b'truthPt',\n",
       " b'truthEta',\n",
       " b'truthPhi',\n",
       " b'clusterIndex',\n",
       " b'clusterE',\n",
       " b'clusterECalib',\n",
       " b'clusterPt',\n",
       " b'clusterEta',\n",
       " b'clusterPhi',\n",
       " b'cluster_nCells',\n",
       " b'cluster_sumCellE',\n",
       " b'cluster_ENG_CALIB_TOT',\n",
       " b'cluster_ENG_CALIB_OUT_T',\n",
       " b'cluster_ENG_CALIB_DEAD_TOT',\n",
       " b'cluster_EM_PROBABILITY',\n",
       " b'cluster_HAD_WEIGHT',\n",
       " b'cluster_OOC_WEIGHT',\n",
       " b'cluster_DM_WEIGHT',\n",
       " b'cluster_CENTER_MAG',\n",
       " b'cluster_FIRST_ENG_DENS',\n",
       " b'cluster_cell_dR_min',\n",
       " b'cluster_cell_dR_max',\n",
       " b'cluster_cell_dEta_min',\n",
       " b'cluster_cell_dEta_max',\n",
       " b'cluster_cell_dPhi_min',\n",
       " b'cluster_cell_dPhi_max',\n",
       " b'cluster_cell_centerCellEta',\n",
       " b'cluster_cell_centerCellPhi',\n",
       " b'cluster_cell_centerCellLayer',\n",
       " b'cluster_cellE_norm',\n",
       " b'duplicate_EMB1',\n",
       " b'duplicate_EMB2',\n",
       " b'duplicate_EMB3',\n",
       " b'duplicate_TileBar0',\n",
       " b'duplicate_TileBar1',\n",
       " b'duplicate_TileBar2',\n",
       " b'EMB1',\n",
       " b'EMB2',\n",
       " b'EMB3',\n",
       " b'TileBar0',\n",
       " b'TileBar1',\n",
       " b'TileBar2']"
      ]
     },
     "execution_count": 3,
     "metadata": {},
     "output_type": "execute_result"
    }
   ],
   "source": [
    "tree1.keys()"
   ]
  },
  {
   "cell_type": "code",
   "execution_count": 4,
   "metadata": {},
   "outputs": [
    {
     "data": {
      "text/plain": [
       "[b'runNumber',\n",
       " b'eventNumber',\n",
       " b'truthE',\n",
       " b'truthPt',\n",
       " b'truthEta',\n",
       " b'truthPhi',\n",
       " b'clusterIndex',\n",
       " b'clusterE',\n",
       " b'clusterECalib',\n",
       " b'clusterPt',\n",
       " b'clusterEta',\n",
       " b'clusterPhi',\n",
       " b'cluster_nCells',\n",
       " b'cluster_sumCellE',\n",
       " b'cluster_ENG_CALIB_TOT',\n",
       " b'cluster_ENG_CALIB_OUT_T',\n",
       " b'cluster_ENG_CALIB_DEAD_TOT',\n",
       " b'cluster_EM_PROBABILITY',\n",
       " b'cluster_HAD_WEIGHT',\n",
       " b'cluster_OOC_WEIGHT',\n",
       " b'cluster_DM_WEIGHT',\n",
       " b'cluster_CENTER_MAG',\n",
       " b'cluster_FIRST_ENG_DENS',\n",
       " b'cluster_cell_dR_min',\n",
       " b'cluster_cell_dR_max',\n",
       " b'cluster_cell_dEta_min',\n",
       " b'cluster_cell_dEta_max',\n",
       " b'cluster_cell_dPhi_min',\n",
       " b'cluster_cell_dPhi_max',\n",
       " b'cluster_cell_centerCellEta',\n",
       " b'cluster_cell_centerCellPhi',\n",
       " b'cluster_cell_centerCellLayer',\n",
       " b'cluster_cellE_norm',\n",
       " b'duplicate_EMB1',\n",
       " b'duplicate_EMB2',\n",
       " b'duplicate_EMB3',\n",
       " b'duplicate_TileBar0',\n",
       " b'duplicate_TileBar1',\n",
       " b'duplicate_TileBar2',\n",
       " b'EMB1',\n",
       " b'EMB2',\n",
       " b'EMB3',\n",
       " b'TileBar0',\n",
       " b'TileBar1',\n",
       " b'TileBar2',\n",
       " b'Tiles',\n",
       " b'EMB1_expand',\n",
       " b'EMB23']"
      ]
     },
     "execution_count": 4,
     "metadata": {},
     "output_type": "execute_result"
    }
   ],
   "source": [
    "tree2.keys()"
   ]
  },
  {
   "cell_type": "code",
   "execution_count": 5,
   "metadata": {},
   "outputs": [
    {
     "name": "stdout",
     "output_type": "stream",
     "text": [
      "347377 [16 16 16 16 16 16 16 16 16 16 16 16 16 16 16 16]\n"
     ]
    }
   ],
   "source": [
    "emb2_diff = tree1.array('EMB2') - tree2.array('EMB2')\n",
    "print(len(emb2_diff), sum(sum(emb2_diff==0)==len(emb2_diff)))"
   ]
  },
  {
   "cell_type": "code",
   "execution_count": 6,
   "metadata": {},
   "outputs": [
    {
     "name": "stdout",
     "output_type": "stream",
     "text": [
      "347377 [8 8 8 8 8 8 8 8 8 8 8 8 8 8 8 8]\n"
     ]
    }
   ],
   "source": [
    "emb3_diff = tree1.array('EMB3') - tree2.array('EMB3')\n",
    "print(len(emb3_diff), sum(sum(emb3_diff==0)==len(emb3_diff)))"
   ]
  },
  {
   "cell_type": "code",
   "execution_count": 7,
   "metadata": {},
   "outputs": [],
   "source": [
    "emb2 = tree1.array('EMB2')\n",
    "emb3 = tree1.array('EMB3')\n",
    "\n",
    "emb3 = rebin.rebinUpCluster(emb3, 16, 16)\n",
    "\n",
    "emb23 = np.stack([emb2, emb3], axis=3)\n",
    "\n",
    "emb23_diff = emb23 - tree2.array('EMB23')"
   ]
  },
  {
   "cell_type": "code",
   "execution_count": 9,
   "metadata": {},
   "outputs": [
    {
     "name": "stdout",
     "output_type": "stream",
     "text": [
      "347377 [[16 16]\n",
      " [16 16]\n",
      " [16 16]\n",
      " [16 16]\n",
      " [16 16]\n",
      " [16 16]\n",
      " [16 16]\n",
      " [16 16]\n",
      " [16 16]\n",
      " [16 16]\n",
      " [16 16]\n",
      " [16 16]\n",
      " [16 16]\n",
      " [16 16]\n",
      " [16 16]\n",
      " [16 16]]\n"
     ]
    }
   ],
   "source": [
    "print(len(emb23_diff), sum(sum(emb23_diff==0)==len(emb23_diff)))"
   ]
  },
  {
   "cell_type": "code",
   "execution_count": 12,
   "metadata": {},
   "outputs": [],
   "source": [
    "emb1 = tree1.array('EMB1')\n",
    "\n",
    "emb1 = np.expand_dims(emb1,axis=3)\n",
    "\n",
    "emb1_diff = emb1 - tree2.array('EMB1_expand')"
   ]
  },
  {
   "cell_type": "code",
   "execution_count": 13,
   "metadata": {},
   "outputs": [
    {
     "name": "stdout",
     "output_type": "stream",
     "text": [
      "347377 [[128]\n",
      " [128]\n",
      " [128]\n",
      " [128]]\n"
     ]
    }
   ],
   "source": [
    "print(len(emb1_diff), sum(sum(emb1_diff==0)==len(emb1_diff)))"
   ]
  },
  {
   "cell_type": "code",
   "execution_count": 14,
   "metadata": {},
   "outputs": [],
   "source": [
    "tile0 = tree1.array('TileBar0')\n",
    "tile1 = tree1.array('TileBar1')\n",
    "tile2 = tree1.array('TileBar2')\n",
    "\n",
    "tile2 = rebin.rebinUpCluster(tile2, 4, 4)\n",
    "\n",
    "tiles = np.stack([tile0, tile1, tile2], axis=3)\n",
    "\n",
    "tiles_diff = tiles - tree2.array('Tiles')"
   ]
  },
  {
   "cell_type": "code",
   "execution_count": 15,
   "metadata": {},
   "outputs": [
    {
     "name": "stdout",
     "output_type": "stream",
     "text": [
      "347377 [[4 4 4]\n",
      " [4 4 4]\n",
      " [4 4 4]\n",
      " [4 4 4]]\n"
     ]
    }
   ],
   "source": [
    "print(len(tiles_diff), sum(sum(tiles_diff==0)==len(tiles_diff)))"
   ]
  },
  {
   "cell_type": "code",
   "execution_count": null,
   "metadata": {},
   "outputs": [],
   "source": []
  }
 ],
 "metadata": {
  "kernelspec": {
   "display_name": "heinz6 powerai (Python 3)",
   "language": "python",
   "name": "heinz6_powerai_ker"
  },
  "language_info": {
   "codemirror_mode": {
    "name": "ipython",
    "version": 3
   },
   "file_extension": ".py",
   "mimetype": "text/x-python",
   "name": "python",
   "nbconvert_exporter": "python",
   "pygments_lexer": "ipython3",
   "version": "3.7.7"
  }
 },
 "nbformat": 4,
 "nbformat_minor": 4
}
