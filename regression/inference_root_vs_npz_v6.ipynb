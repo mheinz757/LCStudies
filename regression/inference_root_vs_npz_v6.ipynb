{
 "cells": [
  {
   "cell_type": "code",
   "execution_count": 1,
   "metadata": {},
   "outputs": [],
   "source": [
    "%load_ext autoreload\n",
    "%autoreload 2"
   ]
  },
  {
   "cell_type": "code",
   "execution_count": 2,
   "metadata": {},
   "outputs": [],
   "source": [
    "#import libraries and some constants\n",
    "\n",
    "import os\n",
    "import numpy as np\n",
    "import matplotlib as mpl\n",
    "import matplotlib.pyplot as plt\n",
    "from matplotlib.colors import Normalize, LogNorm\n",
    "import pandas as pd\n",
    "import uproot as ur\n",
    "import atlas_mpl_style as ampl\n",
    "ampl.use_atlas_style()\n",
    "import tensorflow as tf\n",
    "\n",
    "path_prefix = '/g/g16/heinz6/workspace/projects/caloml-atlas/code/caloml-atlas-py/'\n",
    "plotpath = path_prefix+'regression/Plots/'\n",
    "modelpath = path_prefix+'regression/Models/'"
   ]
  },
  {
   "cell_type": "code",
   "execution_count": 3,
   "metadata": {},
   "outputs": [],
   "source": [
    "inputpath = '/g/g16/heinz6/workspace/projects/caloml-atlas/code/atlasml-karande-heinz/'+\\\n",
    "            'store/20200618_piplus_log_mae_dense_allClust_rebin/results/'\n",
    "fold = '2'\n",
    "\n",
    "a1 = np.load(inputpath+'inference_piplus_v6_root/inference_data_piplus_log_mae_with_fold_'+fold+'_best.npz')\n",
    "a2 = np.load(inputpath+'inference_piplus_v6_root/inference_data_piplus_log_mae_with_fold_'+fold+'_best_2.npz')\n",
    "a3 = np.load(inputpath+'inference_piplus_v6/inference_data_from_train_piplus_log_mae_with_fold_'+fold+'_best.npz')\n",
    "\n",
    "num_cluster1 = len(a1['calib_pred'])\n",
    "num_cluster2 = len(a2['calib_pred'])\n",
    "num_cluster3 = len(a3['calib_pred'])"
   ]
  },
  {
   "cell_type": "code",
   "execution_count": 4,
   "metadata": {},
   "outputs": [],
   "source": [
    "b1 = a1['calib_pred'][np.arange(num_cluster3)]-a3['calib_pred']"
   ]
  },
  {
   "cell_type": "code",
   "execution_count": 5,
   "metadata": {},
   "outputs": [
    {
     "data": {
      "text/plain": [
       "347376"
      ]
     },
     "execution_count": 5,
     "metadata": {},
     "output_type": "execute_result"
    }
   ],
   "source": [
    "sum(b1==0)"
   ]
  },
  {
   "cell_type": "code",
   "execution_count": 6,
   "metadata": {},
   "outputs": [
    {
     "data": {
      "text/plain": [
       "347376"
      ]
     },
     "execution_count": 6,
     "metadata": {},
     "output_type": "execute_result"
    }
   ],
   "source": [
    "num_cluster3"
   ]
  },
  {
   "cell_type": "code",
   "execution_count": 7,
   "metadata": {},
   "outputs": [],
   "source": [
    "b2 = a1['calib_pred'][np.arange(num_cluster2)]-a2['calib_pred']"
   ]
  },
  {
   "cell_type": "code",
   "execution_count": 8,
   "metadata": {},
   "outputs": [
    {
     "data": {
      "text/plain": [
       "346112"
      ]
     },
     "execution_count": 8,
     "metadata": {},
     "output_type": "execute_result"
    }
   ],
   "source": [
    "sum(abs(b2/a2['calib_pred']) < 6*10**(-6))"
   ]
  },
  {
   "cell_type": "code",
   "execution_count": 9,
   "metadata": {},
   "outputs": [
    {
     "data": {
      "text/plain": [
       "346112"
      ]
     },
     "execution_count": 9,
     "metadata": {},
     "output_type": "execute_result"
    }
   ],
   "source": [
    "num_cluster2"
   ]
  },
  {
   "cell_type": "code",
   "execution_count": 10,
   "metadata": {},
   "outputs": [],
   "source": [
    "inputpath2 = '/g/g16/heinz6/workspace/projects/caloml-atlas/code/atlasml-karande-heinz/store/20200721_classifier_crossentropy_dense_allClust_rebin/'\n",
    "\n",
    "c1 = np.load(inputpath2+'training_data_log_categorical_crossentropy.npz')"
   ]
  },
  {
   "cell_type": "code",
   "execution_count": 11,
   "metadata": {},
   "outputs": [],
   "source": [
    "label_fold = c1['label_fold']"
   ]
  },
  {
   "cell_type": "code",
   "execution_count": 12,
   "metadata": {},
   "outputs": [
    {
     "data": {
      "text/plain": [
       "(980274,)"
      ]
     },
     "execution_count": 12,
     "metadata": {},
     "output_type": "execute_result"
    }
   ],
   "source": [
    "label_fold.shape"
   ]
  },
  {
   "cell_type": "code",
   "execution_count": 13,
   "metadata": {},
   "outputs": [
    {
     "name": "stdout",
     "output_type": "stream",
     "text": [
      "[     5      6      8 ... 980265 980271 980272]\n"
     ]
    }
   ],
   "source": [
    "fold = 4\n",
    "test_inds = np.argwhere(label_fold == fold).reshape(-1)\n",
    "print(test_inds)"
   ]
  },
  {
   "cell_type": "code",
   "execution_count": 14,
   "metadata": {},
   "outputs": [
    {
     "name": "stdout",
     "output_type": "stream",
     "text": [
      "(196054, 2)\n",
      "(196054, 2)\n"
     ]
    }
   ],
   "source": [
    "label_pred = c1['label_pred'][test_inds]\n",
    "print(label_pred.shape)\n",
    "label_categ = c1['label_categ'][test_inds]\n",
    "print(label_categ.shape)"
   ]
  },
  {
   "cell_type": "code",
   "execution_count": 15,
   "metadata": {},
   "outputs": [
    {
     "data": {
      "text/plain": [
       "array([196050, 196054])"
      ]
     },
     "execution_count": 15,
     "metadata": {},
     "output_type": "execute_result"
    }
   ],
   "source": [
    "sum(label_pred >0)"
   ]
  },
  {
   "cell_type": "code",
   "execution_count": 16,
   "metadata": {},
   "outputs": [
    {
     "data": {
      "text/plain": [
       "196054"
      ]
     },
     "execution_count": 16,
     "metadata": {},
     "output_type": "execute_result"
    }
   ],
   "source": [
    "len(test_inds)"
   ]
  },
  {
   "cell_type": "code",
   "execution_count": 17,
   "metadata": {},
   "outputs": [
    {
     "data": {
      "text/plain": [
       "0.945311"
      ]
     },
     "execution_count": 17,
     "metadata": {},
     "output_type": "execute_result"
    }
   ],
   "source": [
    "m = tf.keras.metrics.CategoricalAccuracy()\n",
    "_ = m.update_state(label_pred, label_categ)\n",
    "m.result().numpy()"
   ]
  },
  {
   "cell_type": "code",
   "execution_count": 18,
   "metadata": {},
   "outputs": [],
   "source": [
    "import pickle"
   ]
  },
  {
   "cell_type": "code",
   "execution_count": 19,
   "metadata": {},
   "outputs": [],
   "source": [
    "with open(inputpath2+'train_hist_log_categorical_crossentropy_4', 'rb') as f:\n",
    "    x = pickle.load(f)"
   ]
  },
  {
   "cell_type": "code",
   "execution_count": 20,
   "metadata": {},
   "outputs": [
    {
     "name": "stdout",
     "output_type": "stream",
     "text": [
      "[0.18019838873419058, 0.15385751019007926, 0.14710538516377883, 0.14279251642517027, 0.1396360442548544, 0.1375042463185905, 0.135138400402045, 0.13339643780015614, 0.13161971219559865, 0.13006248046832358, 0.1285874081586436, 0.1271777904795079, 0.1256923961757136, 0.12476126338183258, 0.12339924931030631, 0.1222098690188228, 0.12117200055123074, 0.11996229539015953, 0.11891487340601092, 0.11790470422585043, 0.11736843746817409, 0.11593329954814206, 0.11526920983515059, 0.11513211203878279, 0.11363956438978556, 0.11255515745343206, 0.1121312830926739, 0.1120356728874434, 0.11038219093290644, 0.10999364029489854, 0.10909636992810014, 0.10819049174100627, 0.1081210694661593, 0.10699580128523341, 0.10627442941406685, 0.106202337808531, 0.10544313881915358, 0.10474019547959694, 0.10429327034716313, 0.10372828345565575, 0.10305995598653156, 0.10308814757785477, 0.10237439525874235, 0.10176631467637914, 0.10083568958145048, 0.1003859761092734, 0.099775667595077, 0.0997495690606209, 0.09913363993576024, 0.09920891416262553, 0.09790775738898787, 0.09770378563120341, 0.09820232216447104, 0.09894160487698127, 0.09711852480250606, 0.09615373194862964, 0.10794093408898435, 0.09531476678458452, 0.09496179299350631, 0.09449232766453058, 0.09461080630383438, 0.09427684677176637, 0.09378565145348029, 0.093217796284498, 0.0928369175357235, 0.09259655458963759, 0.09208205267842083, 0.09231082420189161, 0.09148310064746555, 0.09129173755505143, 0.09081051701391055, 0.09031023757054785, 0.09007335092506322, 0.09011351771612607, 0.09006229960550714, 0.08941046292480667, 0.08886078663637959, 0.08906290076112684, 0.08871060757130406, 0.08865350850090073, 0.08799202412759052, 0.08764830418612275, 0.08728214838379322, 0.08734788904545372, 0.08681453678013339, 0.08769963743410109, 0.08917949622606362, 0.09136618256900671, 0.0856856944987484, 0.08575840674625554, 0.08637497497660325, 0.08540041174363659, 0.08502498699109831, 0.08495460174610485, 0.0846809240194921, 0.08398623117784539, 0.08467431239954205, 0.08407560717410913, 0.08425577629362992, 0.08382077398556399]\n"
     ]
    }
   ],
   "source": [
    "print(x['loss'])"
   ]
  },
  {
   "cell_type": "code",
   "execution_count": 21,
   "metadata": {
    "scrolled": true
   },
   "outputs": [
    {
     "name": "stdout",
     "output_type": "stream",
     "text": [
      "[0.9383180141448975, 0.9401746392250061, 0.9420924782752991, 0.9426790475845337, 0.9414396286010742, 0.9437859058380127, 0.9442449808120728, 0.9445204138755798, 0.9443469643592834, 0.9439899325370789, 0.9448111057281494, 0.9438266754150391, 0.9448315501213074, 0.9447652101516724, 0.9446938037872314, 0.9453110098838806, 0.9449641704559326, 0.9449131488800049, 0.9452242851257324, 0.9449335336685181, 0.9444847106933594, 0.9442398548126221, 0.9446223974227905, 0.9443061351776123, 0.9440001249313354, 0.9444795846939087, 0.9438675045967102, 0.94380122423172, 0.943780779838562, 0.9434543251991272, 0.9438164830207825, 0.9436073899269104, 0.9436940550804138, 0.9434594511985779, 0.9434900879859924, 0.9434441328048706, 0.9430922269821167, 0.9426433444023132, 0.9424648284912109, 0.9428830742835999, 0.9419547915458679, 0.9426994323730469, 0.9426025748252869, 0.9428626894950867, 0.9427555799484253, 0.9424801468849182, 0.9421588182449341, 0.9422608017921448, 0.9416385293006897, 0.9423322081565857, 0.9413477778434753, 0.9418476819992065, 0.9417915344238281, 0.9424444437026978, 0.9420210719108582, 0.9424291253089905, 0.9421383738517761, 0.9420567750930786, 0.9407255053520203, 0.9414498209953308, 0.9406949281692505, 0.9418884515762329, 0.9416028261184692, 0.9412356019020081, 0.9409754276275635, 0.9414191842079163, 0.9408172965049744, 0.9405725002288818, 0.9408887624740601, 0.9411794543266296, 0.9411335587501526, 0.9410978555679321, 0.9412967562675476, 0.9411080479621887, 0.9406439065933228, 0.9412610530853271, 0.9405826926231384, 0.9420108795166016, 0.9404093027114868, 0.9405061602592468, 0.9403327703475952, 0.9403378367424011, 0.9403990507125854, 0.9413375854492188, 0.9403429627418518, 0.9409193396568298, 0.9403378367424011, 0.9400471448898315, 0.940016508102417, 0.9403225779533386, 0.939506471157074, 0.9400318264961243, 0.9397920966148376, 0.9401491284370422, 0.9399706125259399, 0.9396084547042847, 0.9401389360427856, 0.9391646981239319, 0.939205527305603, 0.9399808049201965]\n"
     ]
    }
   ],
   "source": [
    "print(x['val_categorical_accuracy'])"
   ]
  },
  {
   "cell_type": "code",
   "execution_count": 3,
   "metadata": {},
   "outputs": [],
   "source": [
    "inputpath3 = '/g/g16/heinz6/workspace/projects/caloml-atlas/code/atlasml-karande-heinz/store/20200724_piplus_log_mae_dense_allEnergy_allClust_rebin/'\n",
    "\n",
    "piplus = np.load(inputpath3+'training_data_piplus_log_mae.npz')"
   ]
  },
  {
   "cell_type": "code",
   "execution_count": 4,
   "metadata": {},
   "outputs": [
    {
     "name": "stdout",
     "output_type": "stream",
     "text": [
      "(4073706,)\n"
     ]
    }
   ],
   "source": [
    "calib_fold = piplus['calib_fold']\n",
    "\n",
    "print(calib_fold.shape)"
   ]
  },
  {
   "cell_type": "code",
   "execution_count": 34,
   "metadata": {},
   "outputs": [
    {
     "name": "stdout",
     "output_type": "stream",
     "text": [
      "[      0       9      11 ... 4073701 4073702 4073705]\n",
      "(4073706,)\n",
      "(4073706,)\n"
     ]
    }
   ],
   "source": [
    "fold = 4\n",
    "test_inds = np.argwhere(calib_fold == fold).reshape(-1)\n",
    "print(test_inds)\n",
    "\n",
    "calib_pred = piplus['calib_pred']\n",
    "print(calib_pred.shape)\n",
    "calib = piplus['calib']\n",
    "print(calib.shape)"
   ]
  },
  {
   "cell_type": "code",
   "execution_count": 35,
   "metadata": {},
   "outputs": [
    {
     "name": "stdout",
     "output_type": "stream",
     "text": [
      "0.9946037761676068\n"
     ]
    }
   ],
   "source": [
    "calib_ratio = calib_pred/calib\n",
    "\n",
    "print(np.median(calib_ratio))"
   ]
  },
  {
   "cell_type": "code",
   "execution_count": 19,
   "metadata": {},
   "outputs": [
    {
     "name": "stderr",
     "output_type": "stream",
     "text": [
      "Using TensorFlow backend.\n"
     ]
    }
   ],
   "source": [
    "import sys\n",
    "sys.path.append('/g/g16/heinz6/workspace/projects/caloml-atlas/code/atlasml-karande-heinz/')\n",
    "from helpers import data_processing as dp\n",
    "from helpers import rebin\n",
    "from helpers import normalize\n",
    "\n",
    "model_min_max = np.load(inputpath3+'/calib_min_max_piplus_log.npz')\n",
    "\n",
    "model_min = model_min_max['calib_min']\n",
    "model_max = model_min_max['calib_max']\n",
    "\n",
    "norm_log_calib_pred = normalize.norm(np.log10(calib_pred),xmax=model_max, xmin=model_min)\n",
    "norm_log_calib = normalize.norm(np.log10(calib),xmax=model_max, xmin=model_min)\n",
    "\n",
    "#m = tf.keras.losses.MAE(norm_log_calib_pred,norm_log_calib)\n",
    "#print(m)"
   ]
  },
  {
   "cell_type": "code",
   "execution_count": 68,
   "metadata": {},
   "outputs": [
    {
     "name": "stdout",
     "output_type": "stream",
     "text": [
      "0.011922924754345003\n"
     ]
    }
   ],
   "source": [
    "import pickle\n",
    "\n",
    "with open(inputpath3+'train_hist_piplus_log_mae_'+str(fold), 'rb') as f:\n",
    "    x = pickle.load(f)\n",
    "\n",
    "print(min(x['loss']))"
   ]
  },
  {
   "cell_type": "code",
   "execution_count": 31,
   "metadata": {},
   "outputs": [
    {
     "data": {
      "text/plain": [
       "0.012677421647156564"
      ]
     },
     "execution_count": 31,
     "metadata": {},
     "output_type": "execute_result"
    }
   ],
   "source": [
    "x['val_loss'][99]"
   ]
  },
  {
   "cell_type": "code",
   "execution_count": 80,
   "metadata": {},
   "outputs": [],
   "source": [
    "import pickle\n",
    "inputpath4 = '/g/g16/heinz6/workspace/projects/caloml-atlas/code/atlasml-karande-heinz/store/20200724_piplus_log_mae_dense_allEnergy_allClust_rebin/training_timing/'\n",
    "\n",
    "batch_size_list = [32,64,128,256,512,1024,2048]\n",
    "history_dict = {}\n",
    "\n",
    "for batch_size in batch_size_list:\n",
    "    with open(inputpath4+'train_hist_piplus_log_mae_'+str(batch_size)+'_1', 'rb') as f:\n",
    "        history_dict[batch_size] = pickle.load(f)"
   ]
  },
  {
   "cell_type": "code",
   "execution_count": 81,
   "metadata": {},
   "outputs": [
    {
     "name": "stdout",
     "output_type": "stream",
     "text": [
      "Minimum validation loss for batch size 32: [0.0004050895804539323, 0.0004182677366770804, 0.00041056182817555964, 0.0004155725473538041, 0.00040870727389119565, 0.00040788098704069853, 0.000402767735067755, 0.00041387861710973084, 0.0004057107726112008, 0.000405782280722633]\n",
      "Minimum validation loss for batch size 64: [0.00040884915506467223, 0.0004086808767169714, 0.00042552503873594105, 0.0004176466027274728, 0.00040606214315630496, 0.0004083111707586795, 0.0004003854701295495, 0.00040995937888510525, 0.00041810577386058867, 0.0003980431647505611]\n",
      "Minimum validation loss for batch size 128: [0.00041210808558389544, 0.00040056160651147366, 0.0003955659340135753, 0.0004078191705048084, 0.00039917268441058695, 0.00039193424163386226, 0.00039370940066874027, 0.00039360704249702394, 0.00040080081089399755, 0.00039045271114446223]\n",
      "Minimum validation loss for batch size 256: [0.00041292537935078144, 0.00041718510328792036, 0.00040408989298157394, 0.0003992156416643411, 0.00039428399759344757, 0.0003940070455428213, 0.0003903149045072496, 0.00039611104875802994, 0.0004017854807898402, 0.0003940989263355732]\n",
      "Minimum validation loss for batch size 512: [0.00043219482176937163, 0.00039265392115339637, 0.00040713767521083355, 0.0003974691207986325, 0.000389878056012094, 0.0004019925545435399, 0.00039623098564334214, 0.0003908304497599602, 0.00039008198655210435, 0.00039455777732655406]\n",
      "Minimum validation loss for batch size 1024: [0.0004911238793283701, 0.0004367923247627914, 0.0003964745264966041, 0.000398799980757758, 0.0003893779357895255, 0.00038888168637640774, 0.0003910039667971432, 0.00038898654747754335, 0.0003985325456596911, 0.0003859613789245486]\n",
      "Minimum validation loss for batch size 2048: [0.00047066580737009645, 0.0004334343539085239, 0.0004063948872499168, 0.0004152412002440542, 0.00039343751268461347, 0.00039644193020649254, 0.0003934247652068734, 0.00039101342554204166, 0.00038960494566708803, 0.00038901742664165795]\n"
     ]
    }
   ],
   "source": [
    "for batch_size in history_dict:\n",
    "    print('Minimum validation loss for batch size {}: {}'.format(batch_size, history_dict[batch_size]['val_mse']))"
   ]
  },
  {
   "cell_type": "code",
   "execution_count": 8,
   "metadata": {},
   "outputs": [
    {
     "name": "stdout",
     "output_type": "stream",
     "text": [
      "lol\n"
     ]
    }
   ],
   "source": [
    "a = [0,1,5]\n",
    "\n",
    "if 5 in a:\n",
    "    print('lol')"
   ]
  },
  {
   "cell_type": "code",
   "execution_count": null,
   "metadata": {},
   "outputs": [],
   "source": []
  }
 ],
 "metadata": {
  "kernelspec": {
   "display_name": "heinz6 powerai (Python 3)",
   "language": "python",
   "name": "heinz6_powerai_ker"
  },
  "language_info": {
   "codemirror_mode": {
    "name": "ipython",
    "version": 3
   },
   "file_extension": ".py",
   "mimetype": "text/x-python",
   "name": "python",
   "nbconvert_exporter": "python",
   "pygments_lexer": "ipython3",
   "version": "3.7.7"
  }
 },
 "nbformat": 4,
 "nbformat_minor": 4
}
